{
  "nbformat": 4,
  "nbformat_minor": 0,
  "metadata": {
    "colab": {
      "name": "Học máy.ipynb",
      "provenance": [],
      "collapsed_sections": []
    },
    "kernelspec": {
      "name": "python3",
      "display_name": "Python 3"
    },
    "language_info": {
      "name": "python"
    }
  },
  "cells": [
    {
      "cell_type": "code",
      "metadata": {
        "id": "GDE_Wb4A8-R8"
      },
      "source": [
        "import numpy as np\n",
        "import pandas as pd\n",
        "import seaborn as sns\n",
        "import matplotlib.pyplot as plt\n",
        "import seaborn as sns\n",
        "from sklearn.preprocessing import StandardScaler\n",
        "from sklearn.linear_model import LinearRegression, Ridge, ElasticNet, Lasso, SGDRegressor\n",
        "from sklearn.metrics import r2_score, mean_squared_error, mean_absolute_error\n",
        "from sklearn.preprocessing import StandardScaler, MinMaxScaler\n",
        "pd.set_option('display.max_colwidth', None)"
      ],
      "execution_count": 36,
      "outputs": []
    },
    {
      "cell_type": "code",
      "metadata": {
        "colab": {
          "base_uri": "https://localhost:8080/",
          "height": 424
        },
        "id": "3mgQlSFI9Ld4",
        "outputId": "d80ebb12-dbb2-4179-868d-ce1af7c3982a"
      },
      "source": [
        "df = pd.read_csv(('/content/drive/MyDrive/train.txt'), sep=\",\", skiprows=[0,1], names=['Bytes','Time'])\n",
        "df"
      ],
      "execution_count": 51,
      "outputs": [
        {
          "output_type": "execute_result",
          "data": {
            "text/html": [
              "<div>\n",
              "<style scoped>\n",
              "    .dataframe tbody tr th:only-of-type {\n",
              "        vertical-align: middle;\n",
              "    }\n",
              "\n",
              "    .dataframe tbody tr th {\n",
              "        vertical-align: top;\n",
              "    }\n",
              "\n",
              "    .dataframe thead th {\n",
              "        text-align: right;\n",
              "    }\n",
              "</style>\n",
              "<table border=\"1\" class=\"dataframe\">\n",
              "  <thead>\n",
              "    <tr style=\"text-align: right;\">\n",
              "      <th></th>\n",
              "      <th>Bytes</th>\n",
              "      <th>Time</th>\n",
              "    </tr>\n",
              "  </thead>\n",
              "  <tbody>\n",
              "    <tr>\n",
              "      <th>0</th>\n",
              "      <td>3734185</td>\n",
              "      <td>0.298548</td>\n",
              "    </tr>\n",
              "    <tr>\n",
              "      <th>1</th>\n",
              "      <td>5839301</td>\n",
              "      <td>0.460480</td>\n",
              "    </tr>\n",
              "    <tr>\n",
              "      <th>2</th>\n",
              "      <td>6343427</td>\n",
              "      <td>0.527977</td>\n",
              "    </tr>\n",
              "    <tr>\n",
              "      <th>3</th>\n",
              "      <td>1355574</td>\n",
              "      <td>0.098012</td>\n",
              "    </tr>\n",
              "    <tr>\n",
              "      <th>4</th>\n",
              "      <td>725488</td>\n",
              "      <td>0.048238</td>\n",
              "    </tr>\n",
              "    <tr>\n",
              "      <th>...</th>\n",
              "      <td>...</td>\n",
              "      <td>...</td>\n",
              "    </tr>\n",
              "    <tr>\n",
              "      <th>71108</th>\n",
              "      <td>4472112</td>\n",
              "      <td>0.350379</td>\n",
              "    </tr>\n",
              "    <tr>\n",
              "      <th>71109</th>\n",
              "      <td>5471895</td>\n",
              "      <td>0.429955</td>\n",
              "    </tr>\n",
              "    <tr>\n",
              "      <th>71110</th>\n",
              "      <td>9837364</td>\n",
              "      <td>0.801394</td>\n",
              "    </tr>\n",
              "    <tr>\n",
              "      <th>71111</th>\n",
              "      <td>9466593</td>\n",
              "      <td>0.776407</td>\n",
              "    </tr>\n",
              "    <tr>\n",
              "      <th>71112</th>\n",
              "      <td>4080801</td>\n",
              "      <td>0.314468</td>\n",
              "    </tr>\n",
              "  </tbody>\n",
              "</table>\n",
              "<p>71113 rows × 2 columns</p>\n",
              "</div>"
            ],
            "text/plain": [
              "         Bytes      Time\n",
              "0      3734185  0.298548\n",
              "1      5839301  0.460480\n",
              "2      6343427  0.527977\n",
              "3      1355574  0.098012\n",
              "4       725488  0.048238\n",
              "...        ...       ...\n",
              "71108  4472112  0.350379\n",
              "71109  5471895  0.429955\n",
              "71110  9837364  0.801394\n",
              "71111  9466593  0.776407\n",
              "71112  4080801  0.314468\n",
              "\n",
              "[71113 rows x 2 columns]"
            ]
          },
          "metadata": {},
          "execution_count": 51
        }
      ]
    },
    {
      "cell_type": "code",
      "metadata": {
        "colab": {
          "base_uri": "https://localhost:8080/",
          "height": 424
        },
        "id": "BDXEjC0m9UuN",
        "outputId": "c318dd67-ec23-46a8-eda5-5793eadce118"
      },
      "source": [
        "test = pd.read_csv(('/content/drive/MyDrive/test.txt'), sep=\",\", skiprows=[0,1], names=['Bytes','Time'])\n",
        "test"
      ],
      "execution_count": 52,
      "outputs": [
        {
          "output_type": "execute_result",
          "data": {
            "text/html": [
              "<div>\n",
              "<style scoped>\n",
              "    .dataframe tbody tr th:only-of-type {\n",
              "        vertical-align: middle;\n",
              "    }\n",
              "\n",
              "    .dataframe tbody tr th {\n",
              "        vertical-align: top;\n",
              "    }\n",
              "\n",
              "    .dataframe thead th {\n",
              "        text-align: right;\n",
              "    }\n",
              "</style>\n",
              "<table border=\"1\" class=\"dataframe\">\n",
              "  <thead>\n",
              "    <tr style=\"text-align: right;\">\n",
              "      <th></th>\n",
              "      <th>Bytes</th>\n",
              "      <th>Time</th>\n",
              "    </tr>\n",
              "  </thead>\n",
              "  <tbody>\n",
              "    <tr>\n",
              "      <th>0</th>\n",
              "      <td>36610827</td>\n",
              "      <td>3.21540</td>\n",
              "    </tr>\n",
              "    <tr>\n",
              "      <th>1</th>\n",
              "      <td>29555651</td>\n",
              "      <td>2.54506</td>\n",
              "    </tr>\n",
              "    <tr>\n",
              "      <th>2</th>\n",
              "      <td>25928216</td>\n",
              "      <td>2.21831</td>\n",
              "    </tr>\n",
              "    <tr>\n",
              "      <th>3</th>\n",
              "      <td>30423112</td>\n",
              "      <td>2.61376</td>\n",
              "    </tr>\n",
              "    <tr>\n",
              "      <th>4</th>\n",
              "      <td>21881189</td>\n",
              "      <td>1.85961</td>\n",
              "    </tr>\n",
              "    <tr>\n",
              "      <th>...</th>\n",
              "      <td>...</td>\n",
              "      <td>...</td>\n",
              "    </tr>\n",
              "    <tr>\n",
              "      <th>10583</th>\n",
              "      <td>26872494</td>\n",
              "      <td>2.35117</td>\n",
              "    </tr>\n",
              "    <tr>\n",
              "      <th>10584</th>\n",
              "      <td>20753811</td>\n",
              "      <td>1.79155</td>\n",
              "    </tr>\n",
              "    <tr>\n",
              "      <th>10585</th>\n",
              "      <td>33520323</td>\n",
              "      <td>2.90918</td>\n",
              "    </tr>\n",
              "    <tr>\n",
              "      <th>10586</th>\n",
              "      <td>21243264</td>\n",
              "      <td>1.80292</td>\n",
              "    </tr>\n",
              "    <tr>\n",
              "      <th>10587</th>\n",
              "      <td>21380484</td>\n",
              "      <td>1.82795</td>\n",
              "    </tr>\n",
              "  </tbody>\n",
              "</table>\n",
              "<p>10588 rows × 2 columns</p>\n",
              "</div>"
            ],
            "text/plain": [
              "          Bytes     Time\n",
              "0      36610827  3.21540\n",
              "1      29555651  2.54506\n",
              "2      25928216  2.21831\n",
              "3      30423112  2.61376\n",
              "4      21881189  1.85961\n",
              "...         ...      ...\n",
              "10583  26872494  2.35117\n",
              "10584  20753811  1.79155\n",
              "10585  33520323  2.90918\n",
              "10586  21243264  1.80292\n",
              "10587  21380484  1.82795\n",
              "\n",
              "[10588 rows x 2 columns]"
            ]
          },
          "metadata": {},
          "execution_count": 52
        }
      ]
    },
    {
      "cell_type": "code",
      "metadata": {
        "id": "q05mnKyzGjD-"
      },
      "source": [
        "X_train= df.drop(['Time'], axis=1)\n",
        "Y_train= df['Time']\n",
        "X_test = test.drop(['Time'], axis=1)\n",
        "Y_test = test['Time']"
      ],
      "execution_count": 53,
      "outputs": []
    },
    {
      "cell_type": "code",
      "metadata": {
        "colab": {
          "base_uri": "https://localhost:8080/",
          "height": 513
        },
        "id": "oAeQW6SX-H7x",
        "outputId": "ed20a807-0744-42a6-de46-003608d1364c"
      },
      "source": [
        "from sklearn import linear_model\n",
        "regr = linear_model.LinearRegression()\n",
        "\n",
        "# Train the model using the training sets\n",
        "regr.fit(X_train, Y_train)\n",
        "\n",
        "# Plot outputs\n",
        "plt.figure(figsize=(15,8))\n",
        "plt.scatter(X_test, Y_test,  color='black')\n",
        "plt.title('Bytes to Time')\n",
        "plt.xlabel('Time')\n",
        "plt.ylabel('Bytes')\n",
        "plt.xticks(())\n",
        "plt.yticks(())\n",
        "plt.plot(X_test, regr.predict(X_test), color='red',linewidth=3)\n"
      ],
      "execution_count": 54,
      "outputs": [
        {
          "output_type": "execute_result",
          "data": {
            "text/plain": [
              "[<matplotlib.lines.Line2D at 0x7f1ef2a215d0>]"
            ]
          },
          "metadata": {},
          "execution_count": 54
        },
        {
          "output_type": "display_data",
          "data": {
            "image/png": "[encoded data removed]",
            "text/plain": [
              "<Figure size 1080x576 with 1 Axes>"
            ]
          },
          "metadata": {}
        }
      ]
    },
    {
      "cell_type": "code",
      "metadata": {
        "id": "OueITzHeT1qp"
      },
      "source": [
        "import math\n",
        "from sklearn.linear_model import LinearRegression\n",
        "from sklearn.metrics import mean_squared_error\n",
        "from sklearn.metrics import mean_absolute_error"
      ],
      "execution_count": 55,
      "outputs": []
    },
    {
      "cell_type": "code",
      "metadata": {
        "colab": {
          "base_uri": "https://localhost:8080/"
        },
        "id": "Qqeib--wLYj8",
        "outputId": "e2f8975e-1b32-4f96-a5dd-7253886e6ec3"
      },
      "source": [
        "linear_regressor = LinearRegression()\n",
        "linear_regressor.fit(X_train, Y_train)\n",
        "print('Coefficient is:',linear_regressor.coef_)\n",
        "print('Intercept is:',linear_regressor.intercept_)\n",
        "print('------------------------------')\n",
        "num_data = X.shape[0]\n",
        "print('num_data::',num_data)    # number of records- 4\n",
        "Y_pred = linear_regressor.predict(X_test) \n",
        "mse = mean_squared_error(Y_test,Y_pred)\n",
        "rmse = math.sqrt(mse/num_data)\n",
        "rse = math.sqrt(mse/(num_data-2))\n",
        "rsquare=linear_regressor.score(X_test,Y_test)\n",
        "mae=mean_absolute_error(Y_test,Y_pred)\n",
        "\n",
        "print('RSE=',rse)\n",
        "print('R-Square=',rsquare)\n",
        "print('rmse=',rmse)\n",
        "print('mae=',mae)"
      ],
      "execution_count": 56,
      "outputs": [
        {
          "output_type": "stream",
          "name": "stdout",
          "text": [
            "Coefficient is: [8.45569597e-08]\n",
            "Intercept is: -0.015895771820689186\n",
            "------------------------------\n",
            "num_data:: 10588\n",
            "RSE= 0.0013925833178965543\n",
            "R-Square= 0.9288075542844522\n",
            "rmse= 0.0013924517870043702\n",
            "mae= 0.12257439261305991\n"
          ]
        }
      ]
    },
    {
      "cell_type": "code",
      "metadata": {
        "colab": {
          "base_uri": "https://localhost:8080/"
        },
        "id": "yua-fSITUqRK",
        "outputId": "212d625a-34f6-49d5-d834-4a2d59373690"
      },
      "source": [
        "# def outliers(df, feature):\n",
        "#     Q1= df[feature].quantile(0.25)\n",
        "#     Q3 = df[feature].quantile(0.75)\n",
        "#     IQR = Q3 - Q1\n",
        "#     upper_limit = Q3 + 1.5 * IQR\n",
        "#     lower_limit = Q1 - 1.5 * IQR\n",
        "#     return upper_limit, lower_limit\n",
        "\n",
        "# upper, lower = outliers(df, \"Time\")\n",
        "# print(\"Upper whisker: \", upper)\n",
        "# print(\"Lower Whisker: \", lower)"
      ],
      "execution_count": null,
      "outputs": [
        {
          "output_type": "stream",
          "name": "stdout",
          "text": [
            "Upper whisker:  1.2512855\n",
            "Lower Whisker:  -0.4423745\n"
          ]
        }
      ]
    },
    {
      "cell_type": "code",
      "metadata": {
        "colab": {
          "base_uri": "https://localhost:8080/",
          "height": 49
        },
        "id": "8vZrFAufWSOZ",
        "outputId": "d62fb4b7-6c7c-40db-9c6b-2eedcecff675"
      },
      "source": [
        "# df[(df['Time'] < lower) | (df['Time'] > upper)]"
      ],
      "execution_count": null,
      "outputs": [
        {
          "output_type": "execute_result",
          "data": {
            "text/html": [
              "<div>\n",
              "<style scoped>\n",
              "    .dataframe tbody tr th:only-of-type {\n",
              "        vertical-align: middle;\n",
              "    }\n",
              "\n",
              "    .dataframe tbody tr th {\n",
              "        vertical-align: top;\n",
              "    }\n",
              "\n",
              "    .dataframe thead th {\n",
              "        text-align: right;\n",
              "    }\n",
              "</style>\n",
              "<table border=\"1\" class=\"dataframe\">\n",
              "  <thead>\n",
              "    <tr style=\"text-align: right;\">\n",
              "      <th></th>\n",
              "      <th>Bytes</th>\n",
              "      <th>Time</th>\n",
              "    </tr>\n",
              "  </thead>\n",
              "  <tbody>\n",
              "  </tbody>\n",
              "</table>\n",
              "</div>"
            ],
            "text/plain": [
              "Empty DataFrame\n",
              "Columns: [Bytes, Time]\n",
              "Index: []"
            ]
          },
          "metadata": {},
          "execution_count": 131
        }
      ]
    },
    {
      "cell_type": "code",
      "metadata": {
        "id": "Ss-srDuGWbE7"
      },
      "source": [
        "# new_df = df[(df['Bytes'] > lower) & (df['Bytes'] < upper)]"
      ],
      "execution_count": null,
      "outputs": []
    },
    {
      "cell_type": "code",
      "metadata": {
        "colab": {
          "base_uri": "https://localhost:8080/"
        },
        "id": "lvEuHsfZWovi",
        "outputId": "4e345c00-22ce-409d-c6a4-9e277ce5f571"
      },
      "source": [
        "# def outlier_removal(df, variable):\n",
        "#     upper_limit = df[variable].mean() + 3 * df[variable].std()\n",
        "#     lower_limit = df[variable].mean() - 3 * df[variable].std()\n",
        "#     return upper_limit, lower_limit\n",
        "\n",
        "# upper_limit, lower_limit = outlier_removal(df, \"Time\")\n",
        "# print(\"Upper limit: \", upper_limit)\n",
        "# print(\"Lower Limit: \",lower_limit)"
      ],
      "execution_count": null,
      "outputs": [
        {
          "output_type": "stream",
          "name": "stdout",
          "text": [
            "Upper limit:  1.1389089415690725\n",
            "Lower Limit:  -0.3253348535919423\n"
          ]
        }
      ]
    },
    {
      "cell_type": "code",
      "metadata": {
        "colab": {
          "base_uri": "https://localhost:8080/",
          "height": 49
        },
        "id": "zeaGY3qdXDB6",
        "outputId": "d633fe0e-edff-49bf-c9cd-fd64e34b8bc2"
      },
      "source": [
        "# df[(df['Time'] < lower_limit) | (df['Time'] > upper_limit)]"
      ],
      "execution_count": null,
      "outputs": [
        {
          "output_type": "execute_result",
          "data": {
            "text/html": [
              "<div>\n",
              "<style scoped>\n",
              "    .dataframe tbody tr th:only-of-type {\n",
              "        vertical-align: middle;\n",
              "    }\n",
              "\n",
              "    .dataframe tbody tr th {\n",
              "        vertical-align: top;\n",
              "    }\n",
              "\n",
              "    .dataframe thead th {\n",
              "        text-align: right;\n",
              "    }\n",
              "</style>\n",
              "<table border=\"1\" class=\"dataframe\">\n",
              "  <thead>\n",
              "    <tr style=\"text-align: right;\">\n",
              "      <th></th>\n",
              "      <th>Bytes</th>\n",
              "      <th>Time</th>\n",
              "    </tr>\n",
              "  </thead>\n",
              "  <tbody>\n",
              "  </tbody>\n",
              "</table>\n",
              "</div>"
            ],
            "text/plain": [
              "Empty DataFrame\n",
              "Columns: [Bytes, Time]\n",
              "Index: []"
            ]
          },
          "metadata": {},
          "execution_count": 133
        }
      ]
    },
    {
      "cell_type": "code",
      "metadata": {
        "colab": {
          "base_uri": "https://localhost:8080/",
          "height": 424
        },
        "id": "H30cVMiRScm8",
        "outputId": "aff21232-5df5-4966-e22d-ab822cc3454f"
      },
      "source": [
        "df1 = df.nlargest(round((len(df))*0.9), ['Time'])\n",
        "df1"
      ],
      "execution_count": 58,
      "outputs": [
        {
          "output_type": "execute_result",
          "data": {
            "text/html": [
              "<div>\n",
              "<style scoped>\n",
              "    .dataframe tbody tr th:only-of-type {\n",
              "        vertical-align: middle;\n",
              "    }\n",
              "\n",
              "    .dataframe tbody tr th {\n",
              "        vertical-align: top;\n",
              "    }\n",
              "\n",
              "    .dataframe thead th {\n",
              "        text-align: right;\n",
              "    }\n",
              "</style>\n",
              "<table border=\"1\" class=\"dataframe\">\n",
              "  <thead>\n",
              "    <tr style=\"text-align: right;\">\n",
              "      <th></th>\n",
              "      <th>Bytes</th>\n",
              "      <th>Time</th>\n",
              "    </tr>\n",
              "  </thead>\n",
              "  <tbody>\n",
              "    <tr>\n",
              "      <th>59754</th>\n",
              "      <td>9866574</td>\n",
              "      <td>0.983776</td>\n",
              "    </tr>\n",
              "    <tr>\n",
              "      <th>59706</th>\n",
              "      <td>9767804</td>\n",
              "      <td>0.980035</td>\n",
              "    </tr>\n",
              "    <tr>\n",
              "      <th>772</th>\n",
              "      <td>9949739</td>\n",
              "      <td>0.978427</td>\n",
              "    </tr>\n",
              "    <tr>\n",
              "      <th>46493</th>\n",
              "      <td>9886144</td>\n",
              "      <td>0.973525</td>\n",
              "    </tr>\n",
              "    <tr>\n",
              "      <th>59660</th>\n",
              "      <td>9806626</td>\n",
              "      <td>0.972498</td>\n",
              "    </tr>\n",
              "    <tr>\n",
              "      <th>...</th>\n",
              "      <td>...</td>\n",
              "      <td>...</td>\n",
              "    </tr>\n",
              "    <tr>\n",
              "      <th>2464</th>\n",
              "      <td>996527</td>\n",
              "      <td>0.072087</td>\n",
              "    </tr>\n",
              "    <tr>\n",
              "      <th>64729</th>\n",
              "      <td>981052</td>\n",
              "      <td>0.072067</td>\n",
              "    </tr>\n",
              "    <tr>\n",
              "      <th>35727</th>\n",
              "      <td>1002109</td>\n",
              "      <td>0.072053</td>\n",
              "    </tr>\n",
              "    <tr>\n",
              "      <th>35514</th>\n",
              "      <td>996473</td>\n",
              "      <td>0.072037</td>\n",
              "    </tr>\n",
              "    <tr>\n",
              "      <th>42840</th>\n",
              "      <td>952495</td>\n",
              "      <td>0.072004</td>\n",
              "    </tr>\n",
              "  </tbody>\n",
              "</table>\n",
              "<p>64002 rows × 2 columns</p>\n",
              "</div>"
            ],
            "text/plain": [
              "         Bytes      Time\n",
              "59754  9866574  0.983776\n",
              "59706  9767804  0.980035\n",
              "772    9949739  0.978427\n",
              "46493  9886144  0.973525\n",
              "59660  9806626  0.972498\n",
              "...        ...       ...\n",
              "2464    996527  0.072087\n",
              "64729   981052  0.072067\n",
              "35727  1002109  0.072053\n",
              "35514   996473  0.072037\n",
              "42840   952495  0.072004\n",
              "\n",
              "[64002 rows x 2 columns]"
            ]
          },
          "metadata": {},
          "execution_count": 58
        }
      ]
    },
    {
      "cell_type": "code",
      "metadata": {
        "id": "NAEzzxtTXCLK"
      },
      "source": [
        "X_train= df1.drop(['Time'], axis=1)\n",
        "Y_train= df1['Time']\n",
        "X_test = test.drop(['Time'], axis=1)\n",
        "Y_test = test['Time']"
      ],
      "execution_count": 61,
      "outputs": []
    },
    {
      "cell_type": "code",
      "metadata": {
        "colab": {
          "base_uri": "https://localhost:8080/",
          "height": 513
        },
        "id": "xtTx5ejZSmCT",
        "outputId": "80bd8dfb-0b11-4806-ed91-91af0b0a66e2"
      },
      "source": [
        "from sklearn import linear_model\n",
        "regr = linear_model.LinearRegression()\n",
        "\n",
        "# Train the model using the training sets\n",
        "regr.fit(X_train, Y_train)\n",
        "\n",
        "# Plot outputs\n",
        "plt.figure(figsize=(15,8))\n",
        "plt.scatter(X_test, Y_test,  color='black')\n",
        "plt.title('Bytes to Time')\n",
        "plt.xlabel('Time')\n",
        "plt.ylabel('Bytes')\n",
        "plt.xticks(())\n",
        "plt.yticks(())\n",
        "plt.plot(X_test, regr.predict(X_test), color='red',linewidth=3)\n"
      ],
      "execution_count": 62,
      "outputs": [
        {
          "output_type": "execute_result",
          "data": {
            "text/plain": [
              "[<matplotlib.lines.Line2D at 0x7f1ef29b6710>]"
            ]
          },
          "metadata": {},
          "execution_count": 62
        },
        {
          "output_type": "display_data",
          "data": {
            "image/png": "[encoded data removed]",
            "text/plain": [
              "<Figure size 1080x576 with 1 Axes>"
            ]
          },
          "metadata": {}
        }
      ]
    },
    {
      "cell_type": "code",
      "metadata": {
        "colab": {
          "base_uri": "https://localhost:8080/"
        },
        "id": "6MArkx-dX6Y7",
        "outputId": "def40995-271e-4a6f-c3b0-5ab77c20f0af"
      },
      "source": [
        "linear_regressor = LinearRegression()\n",
        "linear_regressor.fit(X_train, Y_train)\n",
        "print('Coefficient is:',linear_regressor.coef_)\n",
        "print('Intercept is:',linear_regressor.intercept_)\n",
        "print('------------------------------')\n",
        "num_data = X.shape[0]\n",
        "print('num_data::',num_data)    # number of records- 4\n",
        "Y_pred = linear_regressor.predict(X_test) \n",
        "mse = mean_squared_error(Y_test,Y_pred)\n",
        "rmse = math.sqrt(mse/num_data)\n",
        "rse = math.sqrt(mse/(num_data-2))\n",
        "rsquare=linear_regressor.score(X_test,Y_test)\n",
        "mae=mean_absolute_error(Y_test,Y_pred)\n",
        "\n",
        "print('RSE=',rse)\n",
        "print('R-Square=',rsquare)\n",
        "print('rmse=',rmse)\n",
        "print('mae=',mae)"
      ],
      "execution_count": 63,
      "outputs": [
        {
          "output_type": "stream",
          "name": "stdout",
          "text": [
            "Coefficient is: [8.53100979e-08]\n",
            "Intercept is: -0.021028135067254428\n",
            "------------------------------\n",
            "num_data:: 10588\n",
            "RSE= 0.0012359162992440812\n",
            "R-Square= 0.9439249518004875\n",
            "rmse= 0.0012357995657090635\n",
            "mae= 0.1054421590075502\n"
          ]
        }
      ]
    },
    {
      "cell_type": "code",
      "metadata": {
        "colab": {
          "base_uri": "https://localhost:8080/",
          "height": 424
        },
        "id": "Rb2nThleXWJz",
        "outputId": "1a75fa4a-27c2-4d87-ac41-768041f3cb44"
      },
      "source": [
        "df2 = df.nlargest(round((len(df))*0.8), ['Time'])\n",
        "df2"
      ],
      "execution_count": 67,
      "outputs": [
        {
          "output_type": "execute_result",
          "data": {
            "text/html": [
              "<div>\n",
              "<style scoped>\n",
              "    .dataframe tbody tr th:only-of-type {\n",
              "        vertical-align: middle;\n",
              "    }\n",
              "\n",
              "    .dataframe tbody tr th {\n",
              "        vertical-align: top;\n",
              "    }\n",
              "\n",
              "    .dataframe thead th {\n",
              "        text-align: right;\n",
              "    }\n",
              "</style>\n",
              "<table border=\"1\" class=\"dataframe\">\n",
              "  <thead>\n",
              "    <tr style=\"text-align: right;\">\n",
              "      <th></th>\n",
              "      <th>Bytes</th>\n",
              "      <th>Time</th>\n",
              "    </tr>\n",
              "  </thead>\n",
              "  <tbody>\n",
              "    <tr>\n",
              "      <th>59754</th>\n",
              "      <td>9866574</td>\n",
              "      <td>0.983776</td>\n",
              "    </tr>\n",
              "    <tr>\n",
              "      <th>59706</th>\n",
              "      <td>9767804</td>\n",
              "      <td>0.980035</td>\n",
              "    </tr>\n",
              "    <tr>\n",
              "      <th>772</th>\n",
              "      <td>9949739</td>\n",
              "      <td>0.978427</td>\n",
              "    </tr>\n",
              "    <tr>\n",
              "      <th>46493</th>\n",
              "      <td>9886144</td>\n",
              "      <td>0.973525</td>\n",
              "    </tr>\n",
              "    <tr>\n",
              "      <th>59660</th>\n",
              "      <td>9806626</td>\n",
              "      <td>0.972498</td>\n",
              "    </tr>\n",
              "    <tr>\n",
              "      <th>...</th>\n",
              "      <td>...</td>\n",
              "      <td>...</td>\n",
              "    </tr>\n",
              "    <tr>\n",
              "      <th>25851</th>\n",
              "      <td>1986790</td>\n",
              "      <td>0.152323</td>\n",
              "    </tr>\n",
              "    <tr>\n",
              "      <th>42843</th>\n",
              "      <td>2007095</td>\n",
              "      <td>0.152312</td>\n",
              "    </tr>\n",
              "    <tr>\n",
              "      <th>70207</th>\n",
              "      <td>1935998</td>\n",
              "      <td>0.152299</td>\n",
              "    </tr>\n",
              "    <tr>\n",
              "      <th>19479</th>\n",
              "      <td>1949646</td>\n",
              "      <td>0.152268</td>\n",
              "    </tr>\n",
              "    <tr>\n",
              "      <th>33203</th>\n",
              "      <td>2094325</td>\n",
              "      <td>0.152251</td>\n",
              "    </tr>\n",
              "  </tbody>\n",
              "</table>\n",
              "<p>56890 rows × 2 columns</p>\n",
              "</div>"
            ],
            "text/plain": [
              "         Bytes      Time\n",
              "59754  9866574  0.983776\n",
              "59706  9767804  0.980035\n",
              "772    9949739  0.978427\n",
              "46493  9886144  0.973525\n",
              "59660  9806626  0.972498\n",
              "...        ...       ...\n",
              "25851  1986790  0.152323\n",
              "42843  2007095  0.152312\n",
              "70207  1935998  0.152299\n",
              "19479  1949646  0.152268\n",
              "33203  2094325  0.152251\n",
              "\n",
              "[56890 rows x 2 columns]"
            ]
          },
          "metadata": {},
          "execution_count": 67
        }
      ]
    },
    {
      "cell_type": "code",
      "metadata": {
        "id": "E7xNS7h0XXrr"
      },
      "source": [
        "X_train= df2.drop(['Time'], axis=1)\n",
        "Y_train= df2['Time']\n",
        "X_test = test.drop(['Time'], axis=1)\n",
        "Y_test = test['Time']"
      ],
      "execution_count": 68,
      "outputs": []
    },
    {
      "cell_type": "code",
      "metadata": {
        "colab": {
          "base_uri": "https://localhost:8080/"
        },
        "id": "tJQ0P1szXXyL",
        "outputId": "1e62f14d-7c94-4a60-c800-63a871058cd0"
      },
      "source": [
        "linear_regressor = LinearRegression()\n",
        "linear_regressor.fit(X_train, Y_train)\n",
        "print('Coefficient is:',linear_regressor.coef_)\n",
        "print('Intercept is:',linear_regressor.intercept_)\n",
        "print('------------------------------')\n",
        "num_data = X.shape[0]\n",
        "print('num_data::',num_data)    # number of records- 4\n",
        "Y_pred = linear_regressor.predict(X_test) \n",
        "mse = mean_squared_error(Y_test,Y_pred)\n",
        "rmse = math.sqrt(mse/num_data)\n",
        "rse = math.sqrt(mse/(num_data-2))\n",
        "rsquare=linear_regressor.score(X_test,Y_test)\n",
        "mae=mean_absolute_error(Y_test,Y_pred)\n",
        "\n",
        "print('RSE=',rse)\n",
        "print('R-Square=',rsquare)\n",
        "print('rmse=',rmse)\n",
        "print('mae=',mae)"
      ],
      "execution_count": 69,
      "outputs": [
        {
          "output_type": "stream",
          "name": "stdout",
          "text": [
            "Coefficient is: [8.58540107e-08]\n",
            "Intercept is: -0.024916176399909395\n",
            "------------------------------\n",
            "num_data:: 10588\n",
            "RSE= 0.0011275056939915164\n",
            "R-Square= 0.9533309432098089\n",
            "rmse= 0.0011273991999469822\n",
            "mae= 0.09355244579126226\n"
          ]
        }
      ]
    },
    {
      "cell_type": "code",
      "metadata": {
        "colab": {
          "base_uri": "https://localhost:8080/",
          "height": 424
        },
        "id": "ge0a_uhXXX2H",
        "outputId": "0a203897-909a-4c96-cc6b-9999e5178460"
      },
      "source": [
        "df3 = df.nlargest(round((len(df))*0.7), ['Time'])\n",
        "df3"
      ],
      "execution_count": 70,
      "outputs": [
        {
          "output_type": "execute_result",
          "data": {
            "text/html": [
              "<div>\n",
              "<style scoped>\n",
              "    .dataframe tbody tr th:only-of-type {\n",
              "        vertical-align: middle;\n",
              "    }\n",
              "\n",
              "    .dataframe tbody tr th {\n",
              "        vertical-align: top;\n",
              "    }\n",
              "\n",
              "    .dataframe thead th {\n",
              "        text-align: right;\n",
              "    }\n",
              "</style>\n",
              "<table border=\"1\" class=\"dataframe\">\n",
              "  <thead>\n",
              "    <tr style=\"text-align: right;\">\n",
              "      <th></th>\n",
              "      <th>Bytes</th>\n",
              "      <th>Time</th>\n",
              "    </tr>\n",
              "  </thead>\n",
              "  <tbody>\n",
              "    <tr>\n",
              "      <th>59754</th>\n",
              "      <td>9866574</td>\n",
              "      <td>0.983776</td>\n",
              "    </tr>\n",
              "    <tr>\n",
              "      <th>59706</th>\n",
              "      <td>9767804</td>\n",
              "      <td>0.980035</td>\n",
              "    </tr>\n",
              "    <tr>\n",
              "      <th>772</th>\n",
              "      <td>9949739</td>\n",
              "      <td>0.978427</td>\n",
              "    </tr>\n",
              "    <tr>\n",
              "      <th>46493</th>\n",
              "      <td>9886144</td>\n",
              "      <td>0.973525</td>\n",
              "    </tr>\n",
              "    <tr>\n",
              "      <th>59660</th>\n",
              "      <td>9806626</td>\n",
              "      <td>0.972498</td>\n",
              "    </tr>\n",
              "    <tr>\n",
              "      <th>...</th>\n",
              "      <td>...</td>\n",
              "      <td>...</td>\n",
              "    </tr>\n",
              "    <tr>\n",
              "      <th>24245</th>\n",
              "      <td>3011452</td>\n",
              "      <td>0.234371</td>\n",
              "    </tr>\n",
              "    <tr>\n",
              "      <th>5939</th>\n",
              "      <td>2915612</td>\n",
              "      <td>0.234369</td>\n",
              "    </tr>\n",
              "    <tr>\n",
              "      <th>3709</th>\n",
              "      <td>2990668</td>\n",
              "      <td>0.234357</td>\n",
              "    </tr>\n",
              "    <tr>\n",
              "      <th>43805</th>\n",
              "      <td>2918208</td>\n",
              "      <td>0.234357</td>\n",
              "    </tr>\n",
              "    <tr>\n",
              "      <th>28223</th>\n",
              "      <td>2859426</td>\n",
              "      <td>0.234347</td>\n",
              "    </tr>\n",
              "  </tbody>\n",
              "</table>\n",
              "<p>49779 rows × 2 columns</p>\n",
              "</div>"
            ],
            "text/plain": [
              "         Bytes      Time\n",
              "59754  9866574  0.983776\n",
              "59706  9767804  0.980035\n",
              "772    9949739  0.978427\n",
              "46493  9886144  0.973525\n",
              "59660  9806626  0.972498\n",
              "...        ...       ...\n",
              "24245  3011452  0.234371\n",
              "5939   2915612  0.234369\n",
              "3709   2990668  0.234357\n",
              "43805  2918208  0.234357\n",
              "28223  2859426  0.234347\n",
              "\n",
              "[49779 rows x 2 columns]"
            ]
          },
          "metadata": {},
          "execution_count": 70
        }
      ]
    },
    {
      "cell_type": "code",
      "metadata": {
        "id": "vO-idqGQXq2t"
      },
      "source": [
        "X_train= df3.drop(['Time'], axis=1)\n",
        "Y_train= df3['Time']\n",
        "X_test = test.drop(['Time'], axis=1)\n",
        "Y_test = test['Time']"
      ],
      "execution_count": 73,
      "outputs": []
    },
    {
      "cell_type": "code",
      "metadata": {
        "colab": {
          "base_uri": "https://localhost:8080/"
        },
        "id": "EHK5WjgZXtQC",
        "outputId": "7448491d-6eb5-4276-9de8-63eb236c7fbc"
      },
      "source": [
        "linear_regressor = LinearRegression()\n",
        "linear_regressor.fit(X_train, Y_train)\n",
        "print('Coefficient is:',linear_regressor.coef_)\n",
        "print('Intercept is:',linear_regressor.intercept_)\n",
        "print('------------------------------')\n",
        "num_data = X.shape[0]\n",
        "print('num_data::',num_data)    # number of records- 4\n",
        "Y_pred = linear_regressor.predict(X_test) \n",
        "mse = mean_squared_error(Y_test,Y_pred)\n",
        "rmse = math.sqrt(mse/num_data)\n",
        "rse = math.sqrt(mse/(num_data-2))\n",
        "rsquare=linear_regressor.score(X_test,Y_test)\n",
        "mae=mean_absolute_error(Y_test,Y_pred)\n",
        "\n",
        "print('RSE=',rse)\n",
        "print('R-Square=',rsquare)\n",
        "print('rmse=',rmse)\n",
        "print('mae=',mae)"
      ],
      "execution_count": 74,
      "outputs": [
        {
          "output_type": "stream",
          "name": "stdout",
          "text": [
            "Coefficient is: [8.62937922e-08]\n",
            "Intercept is: -0.02819813297866458\n",
            "------------------------------\n",
            "num_data:: 10588\n",
            "RSE= 0.0010435227387302923\n",
            "R-Square= 0.9600243651069884\n",
            "rmse= 0.0010434241769601805\n",
            "mae= 0.08444720445858198\n"
          ]
        }
      ]
    },
    {
      "cell_type": "code",
      "metadata": {
        "colab": {
          "base_uri": "https://localhost:8080/",
          "height": 424
        },
        "id": "pLZYwV4wXtSO",
        "outputId": "07c8c578-1e27-449b-d67d-3aed323b0e3b"
      },
      "source": [
        "df5 = df.nlargest(round((len(df))*0.5), ['Time'])\n",
        "df5"
      ],
      "execution_count": 79,
      "outputs": [
        {
          "output_type": "execute_result",
          "data": {
            "text/html": [
              "<div>\n",
              "<style scoped>\n",
              "    .dataframe tbody tr th:only-of-type {\n",
              "        vertical-align: middle;\n",
              "    }\n",
              "\n",
              "    .dataframe tbody tr th {\n",
              "        vertical-align: top;\n",
              "    }\n",
              "\n",
              "    .dataframe thead th {\n",
              "        text-align: right;\n",
              "    }\n",
              "</style>\n",
              "<table border=\"1\" class=\"dataframe\">\n",
              "  <thead>\n",
              "    <tr style=\"text-align: right;\">\n",
              "      <th></th>\n",
              "      <th>Bytes</th>\n",
              "      <th>Time</th>\n",
              "    </tr>\n",
              "  </thead>\n",
              "  <tbody>\n",
              "    <tr>\n",
              "      <th>59754</th>\n",
              "      <td>9866574</td>\n",
              "      <td>0.983776</td>\n",
              "    </tr>\n",
              "    <tr>\n",
              "      <th>59706</th>\n",
              "      <td>9767804</td>\n",
              "      <td>0.980035</td>\n",
              "    </tr>\n",
              "    <tr>\n",
              "      <th>772</th>\n",
              "      <td>9949739</td>\n",
              "      <td>0.978427</td>\n",
              "    </tr>\n",
              "    <tr>\n",
              "      <th>46493</th>\n",
              "      <td>9886144</td>\n",
              "      <td>0.973525</td>\n",
              "    </tr>\n",
              "    <tr>\n",
              "      <th>59660</th>\n",
              "      <td>9806626</td>\n",
              "      <td>0.972498</td>\n",
              "    </tr>\n",
              "    <tr>\n",
              "      <th>...</th>\n",
              "      <td>...</td>\n",
              "      <td>...</td>\n",
              "    </tr>\n",
              "    <tr>\n",
              "      <th>31518</th>\n",
              "      <td>4931221</td>\n",
              "      <td>0.403454</td>\n",
              "    </tr>\n",
              "    <tr>\n",
              "      <th>7552</th>\n",
              "      <td>5055868</td>\n",
              "      <td>0.403448</td>\n",
              "    </tr>\n",
              "    <tr>\n",
              "      <th>11162</th>\n",
              "      <td>4931705</td>\n",
              "      <td>0.403448</td>\n",
              "    </tr>\n",
              "    <tr>\n",
              "      <th>39792</th>\n",
              "      <td>5047319</td>\n",
              "      <td>0.403421</td>\n",
              "    </tr>\n",
              "    <tr>\n",
              "      <th>27604</th>\n",
              "      <td>4949703</td>\n",
              "      <td>0.403419</td>\n",
              "    </tr>\n",
              "  </tbody>\n",
              "</table>\n",
              "<p>35556 rows × 2 columns</p>\n",
              "</div>"
            ],
            "text/plain": [
              "         Bytes      Time\n",
              "59754  9866574  0.983776\n",
              "59706  9767804  0.980035\n",
              "772    9949739  0.978427\n",
              "46493  9886144  0.973525\n",
              "59660  9806626  0.972498\n",
              "...        ...       ...\n",
              "31518  4931221  0.403454\n",
              "7552   5055868  0.403448\n",
              "11162  4931705  0.403448\n",
              "39792  5047319  0.403421\n",
              "27604  4949703  0.403419\n",
              "\n",
              "[35556 rows x 2 columns]"
            ]
          },
          "metadata": {},
          "execution_count": 79
        }
      ]
    },
    {
      "cell_type": "code",
      "metadata": {
        "id": "QadlY_2kYA6M"
      },
      "source": [
        "X_train= df5.drop(['Time'], axis=1)\n",
        "Y_train= df5['Time']\n",
        "X_test = test.drop(['Time'], axis=1)\n",
        "Y_test = test['Time']"
      ],
      "execution_count": 76,
      "outputs": []
    },
    {
      "cell_type": "code",
      "metadata": {
        "colab": {
          "base_uri": "https://localhost:8080/"
        },
        "id": "ohj9aUVYYA8o",
        "outputId": "5d5e2c0a-97d0-4fa7-c992-e14516414848"
      },
      "source": [
        "linear_regressor = LinearRegression()\n",
        "linear_regressor.fit(X_train, Y_train)\n",
        "print('Coefficient is:',linear_regressor.coef_)\n",
        "print('Intercept is:',linear_regressor.intercept_)\n",
        "print('------------------------------')\n",
        "num_data = X.shape[0]\n",
        "print('num_data::',num_data)    # number of records- 4\n",
        "Y_pred = linear_regressor.predict(X_test) \n",
        "mse = mean_squared_error(Y_test,Y_pred)\n",
        "rmse = math.sqrt(mse/num_data)\n",
        "rse = math.sqrt(mse/(num_data-2))\n",
        "rsquare=linear_regressor.score(X_test,Y_test)\n",
        "mae=mean_absolute_error(Y_test,Y_pred)\n",
        "\n",
        "print('RSE=',rse)\n",
        "print('R-Square=',rsquare)\n",
        "print('rmse=',rmse)\n",
        "print('mae=',mae)"
      ],
      "execution_count": 77,
      "outputs": [
        {
          "output_type": "stream",
          "name": "stdout",
          "text": [
            "Coefficient is: [8.6868686e-08]\n",
            "Intercept is: -0.032692753343908865\n",
            "------------------------------\n",
            "num_data:: 10588\n",
            "RSE= 0.0009397260863939925\n",
            "R-Square= 0.9675814115032414\n",
            "rmse= 0.0009396373283218802\n",
            "mae= 0.07345998273002875\n"
          ]
        }
      ]
    },
    {
      "cell_type": "code",
      "metadata": {
        "colab": {
          "base_uri": "https://localhost:8080/",
          "height": 424
        },
        "id": "vFTXnMi_YUKz",
        "outputId": "f3990c2e-fc69-4dde-ca68-a421ed0271e6"
      },
      "source": [
        "df7 = df.nlargest(round((len(df))*0.3), ['Time'])\n",
        "df7"
      ],
      "execution_count": 86,
      "outputs": [
        {
          "output_type": "execute_result",
          "data": {
            "text/html": [
              "<div>\n",
              "<style scoped>\n",
              "    .dataframe tbody tr th:only-of-type {\n",
              "        vertical-align: middle;\n",
              "    }\n",
              "\n",
              "    .dataframe tbody tr th {\n",
              "        vertical-align: top;\n",
              "    }\n",
              "\n",
              "    .dataframe thead th {\n",
              "        text-align: right;\n",
              "    }\n",
              "</style>\n",
              "<table border=\"1\" class=\"dataframe\">\n",
              "  <thead>\n",
              "    <tr style=\"text-align: right;\">\n",
              "      <th></th>\n",
              "      <th>Bytes</th>\n",
              "      <th>Time</th>\n",
              "    </tr>\n",
              "  </thead>\n",
              "  <tbody>\n",
              "    <tr>\n",
              "      <th>59754</th>\n",
              "      <td>9866574</td>\n",
              "      <td>0.983776</td>\n",
              "    </tr>\n",
              "    <tr>\n",
              "      <th>59706</th>\n",
              "      <td>9767804</td>\n",
              "      <td>0.980035</td>\n",
              "    </tr>\n",
              "    <tr>\n",
              "      <th>772</th>\n",
              "      <td>9949739</td>\n",
              "      <td>0.978427</td>\n",
              "    </tr>\n",
              "    <tr>\n",
              "      <th>46493</th>\n",
              "      <td>9886144</td>\n",
              "      <td>0.973525</td>\n",
              "    </tr>\n",
              "    <tr>\n",
              "      <th>59660</th>\n",
              "      <td>9806626</td>\n",
              "      <td>0.972498</td>\n",
              "    </tr>\n",
              "    <tr>\n",
              "      <th>...</th>\n",
              "      <td>...</td>\n",
              "      <td>...</td>\n",
              "    </tr>\n",
              "    <tr>\n",
              "      <th>27216</th>\n",
              "      <td>7110742</td>\n",
              "      <td>0.573095</td>\n",
              "    </tr>\n",
              "    <tr>\n",
              "      <th>1113</th>\n",
              "      <td>7070709</td>\n",
              "      <td>0.573087</td>\n",
              "    </tr>\n",
              "    <tr>\n",
              "      <th>45793</th>\n",
              "      <td>6829282</td>\n",
              "      <td>0.573071</td>\n",
              "    </tr>\n",
              "    <tr>\n",
              "      <th>39128</th>\n",
              "      <td>6984441</td>\n",
              "      <td>0.573061</td>\n",
              "    </tr>\n",
              "    <tr>\n",
              "      <th>51320</th>\n",
              "      <td>7110749</td>\n",
              "      <td>0.573059</td>\n",
              "    </tr>\n",
              "  </tbody>\n",
              "</table>\n",
              "<p>21334 rows × 2 columns</p>\n",
              "</div>"
            ],
            "text/plain": [
              "         Bytes      Time\n",
              "59754  9866574  0.983776\n",
              "59706  9767804  0.980035\n",
              "772    9949739  0.978427\n",
              "46493  9886144  0.973525\n",
              "59660  9806626  0.972498\n",
              "...        ...       ...\n",
              "27216  7110742  0.573095\n",
              "1113   7070709  0.573087\n",
              "45793  6829282  0.573071\n",
              "39128  6984441  0.573061\n",
              "51320  7110749  0.573059\n",
              "\n",
              "[21334 rows x 2 columns]"
            ]
          },
          "metadata": {},
          "execution_count": 86
        }
      ]
    },
    {
      "cell_type": "code",
      "metadata": {
        "id": "yaSW2B2SYZB6"
      },
      "source": [
        "X_train= df7.drop(['Time'], axis=1)\n",
        "Y_train= df7['Time']\n",
        "X_test = test.drop(['Time'], axis=1)\n",
        "Y_test = test['Time']"
      ],
      "execution_count": 87,
      "outputs": []
    },
    {
      "cell_type": "code",
      "metadata": {
        "colab": {
          "base_uri": "https://localhost:8080/"
        },
        "id": "no2dik5LYcZO",
        "outputId": "ecafa4d3-2c57-4aa8-9bee-c137eead15c1"
      },
      "source": [
        "linear_regressor = LinearRegression()\n",
        "linear_regressor.fit(X_train, Y_train)\n",
        "print('Coefficient is:',linear_regressor.coef_)\n",
        "print('Intercept is:',linear_regressor.intercept_)\n",
        "print('------------------------------')\n",
        "num_data = X.shape[0]\n",
        "print('num_data::',num_data)    # number of records- 4\n",
        "Y_pred = linear_regressor.predict(X_test) \n",
        "mse = mean_squared_error(Y_test,Y_pred)\n",
        "rmse = math.sqrt(mse/num_data)\n",
        "rse = math.sqrt(mse/(num_data-2))\n",
        "rsquare=linear_regressor.score(X_test,Y_test)\n",
        "mae=mean_absolute_error(Y_test,Y_pred)\n",
        "\n",
        "print('RSE=',rse)\n",
        "print('R-Square=',rsquare)\n",
        "print('rmse=',rmse)\n",
        "print('mae=',mae)"
      ],
      "execution_count": 88,
      "outputs": [
        {
          "output_type": "stream",
          "name": "stdout",
          "text": [
            "Coefficient is: [8.64822619e-08]\n",
            "Intercept is: -0.028836411485649305\n",
            "------------------------------\n",
            "num_data:: 10588\n",
            "RSE= 0.0010027568003434936\n",
            "R-Square= 0.9630867088754606\n",
            "rmse= 0.0010026620889571813\n",
            "mae= 0.08004657072421655\n"
          ]
        }
      ]
    }
  ]
}